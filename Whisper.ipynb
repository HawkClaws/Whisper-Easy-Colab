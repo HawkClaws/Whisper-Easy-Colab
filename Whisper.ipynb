{
  "nbformat": 4,
  "nbformat_minor": 0,
  "metadata": {
    "colab": {
      "provenance": [],
      "collapsed_sections": [],
      "authorship_tag": "ABX9TyPWcr0NLFjwAGK7GHolVqbX",
      "include_colab_link": true
    },
    "kernelspec": {
      "name": "python3",
      "display_name": "Python 3"
    },
    "language_info": {
      "name": "python"
    },
    "accelerator": "GPU"
  },
  "cells": [
    {
      "cell_type": "markdown",
      "metadata": {
        "id": "view-in-github",
        "colab_type": "text"
      },
      "source": [
        "<a href=\"https://colab.research.google.com/github/akitana-airtanker/Whisper-Easy-Colab/blob/main/Whisper.ipynb\" target=\"_parent\"><img src=\"https://colab.research.google.com/assets/colab-badge.svg\" alt=\"Open In Colab\"/></a>"
      ]
    },
    {
      "cell_type": "markdown",
      "source": [
        "Whisper で音声認識を行います。\n",
        "\n",
        "手順通りに行うと認識した音声は一定ごとに区切られて、start,end 時間とともに、CSV, JSON, Markdown 形式でコピーできるので、そのまま GoogleSheets や Excel に取り込むことが出来ます。\n",
        "\n",
        "**「編集」>「ノートブックの設定」>「ハードウェア アクセラレータ」で、「GPU」を選択してから実行してください**"
      ],
      "metadata": {
        "id": "GPn6rIn8ez0o"
      }
    },
    {
      "cell_type": "code",
      "execution_count": null,
      "metadata": {
        "id": "V_w3zh82VvXq"
      },
      "outputs": [],
      "source": [
        "#@title `Google Drive 接続とセットアップ （下の▶︎を押す）` in the code cell. { display-mode: \"form\" }\n",
        "from google.colab import drive\n",
        "drive.mount('/content/drive')\n",
        "! pip install git+https://github.com/openai/whisper.git\n",
        "! pip install jiwer\n",
        "import whisper\n",
        "model = whisper.load_model(\"large\")"
      ]
    },
    {
      "cell_type": "code",
      "source": [
        "#@title `ファイル名の設定（右にファイル名を記入して、下の▶︎を押す）`{ display-mode: \"form\" }\n",
        "file_name = \"GoogleDriveのマイドライブ直下に置いた音声や動画ファイル(mp4,m4a,mp3...)の名称\" #@param {type:\"string\"}"
      ],
      "metadata": {
        "id": "Zx39AuHbXALo"
      },
      "execution_count": null,
      "outputs": []
    },
    {
      "cell_type": "code",
      "source": [
        "#@title `解析と結果出力（下の▶︎を押す）`{ display-mode: \"form\" }\n",
        "result = model.transcribe(\"/content/drive/MyDrive/\" + file_name)\n",
        "from IPython.display import Image,display_png\n",
        "display_png(Image('kirakira.png'))\n",
        "print(\"--- 上記のようなアイコンが表示されるのでクリック ---\")\n",
        "display_png(Image('copy.png'))\n",
        "print(\"--- クリックするとコピーアイコンが表示されるのでクリック ---\")\n",
        "display_png(Image('format.png'))\n",
        "print(\"--- 好きなフォーマットでCopyをクリック（CSVであれば、GoogleSheetsやExcelにコピー可能） ---\")\n",
        "import pandas as pd\n",
        "pd.DataFrame(result[\"segments\"])[[\"id\", \"start\", \"end\", \"text\"]]"
      ],
      "metadata": {
        "id": "4lddumuqYyPG"
      },
      "execution_count": null,
      "outputs": []
    }
  ]
}