{
  "cells": [
    {
      "cell_type": "markdown",
      "metadata": {
        "colab_type": "text",
        "id": "view-in-github"
      },
      "source": [
        "<a href=\"https://colab.research.google.com/github/akitana-airtanker/Whisper-Easy-Colab/blob/main/Whisper_ipynb_%E3%81%AE%E3%82%B3%E3%83%94%E3%83%BC.ipynb\" target=\"_parent\"><img src=\"https://colab.research.google.com/assets/colab-badge.svg\" alt=\"Open In Colab\"/></a>"
      ]
    },
    {
      "cell_type": "markdown",
      "metadata": {
        "id": "GPn6rIn8ez0o"
      },
      "source": [
        "Whisper で音声認識を行います。\n",
        "\n",
        "手順通りに行うと認識した音声は一定ごとに区切られて、start,end 時間とともに、CSV, JSON, Markdown 形式でコピーできるので、そのまま GoogleSheets や Excel に取り込むことが出来ます。\n",
        "\n",
        "**「編集」>「ノートブックの設定」>「ハードウェア アクセラレータ」で、「GPU」を選択してから実行してください**"
      ]
    },
    {
      "cell_type": "code",
      "execution_count": null,
      "metadata": {
        "id": "V_w3zh82VvXq"
      },
      "outputs": [],
      "source": [
        "#@title `Google Drive 接続とセットアップ （左下の▶︎を押す）` in the code cell. { display-mode: \"form\" }\n",
        "# Add folders\n",
        "import os\n",
        "checkContentFolder = os.path.exists(\"content\")\n",
        "if not checkContentFolder:\n",
        "  os.mkdir(\"content\")\n",
        "\n",
        "! pip install git+https://github.com/openai/whisper.git\n",
        "! pip install jiwer\n",
        "import whisper\n",
        "model = whisper.load_model(\"large\")"
      ]
    },
    {
      "cell_type": "code",
      "execution_count": null,
      "metadata": {
        "id": "Zx39AuHbXALo"
      },
      "outputs": [],
      "source": [
        "#@title `ファイル名の設定（右にファイル名を記入して、左下の▶︎を押す）`{ display-mode: \"form\" }\n",
        "file_name = \"sample.m4a\"#@param {type:\"string\"}"
      ]
    },
    {
      "cell_type": "code",
      "execution_count": null,
      "metadata": {
        "id": "4lddumuqYyPG"
      },
      "outputs": [],
      "source": [
        "#@title `解析と結果出力（左下の▶︎を押す）`{ display-mode: \"form\" }\n",
        "result = model.transcribe(\"/content/\" + file_name)\n",
        "import pandas as pd\n",
        "pd.DataFrame(result[\"segments\"])[[\"id\", \"start\", \"end\", \"text\"]]"
      ]
    },
    {
      "cell_type": "markdown",
      "metadata": {
        "id": "AwF0DsobpuEm"
      },
      "source": [
        "結果を特定の形式でコピーする方法\n",
        "\n",
        "\n",
        "---\n",
        "\n",
        "\n",
        "1. 下記のようなアイコンが表示されるのでクリック\n",
        "\n",
        "\n",
        "\n",
        "\n",
        "> ![キラキラアイコン](https://drive.google.com/uc?id=1o_7tRFGNbT-4zUP2p1O99D3Gz9o4AJeb)\n",
        "\n",
        "\n",
        "\n",
        "2. クリックするとコピーアイコンが表示されるのでクリック\n",
        "\n",
        "\n",
        "> ![コピーアイコン](https://drive.google.com/uc?id=1y3x6XFFlZHH5piN_5K_s30sGO9d4_cW5)\n",
        "\n",
        "\n",
        "3. 好きなフォーマットでCopyをクリック（CSVであれば、GoogleSheetsやExcelにコピー可能）\n",
        "\n",
        "> ![フォーマットボタン](https://drive.google.com/uc?id=1Si-PKtcccLrIvFm2zydhpImorhQ-KGch)"
      ]
    }
  ],
  "metadata": {
    "accelerator": "GPU",
    "colab": {
      "authorship_tag": "ABX9TyPWVqerX+B304CFxBRW6gjQ",
      "collapsed_sections": [],
      "include_colab_link": true,
      "provenance": []
    },
    "kernelspec": {
      "display_name": "Python 3",
      "name": "python3"
    },
    "language_info": {
      "name": "python"
    }
  },
  "nbformat": 4,
  "nbformat_minor": 0
}
